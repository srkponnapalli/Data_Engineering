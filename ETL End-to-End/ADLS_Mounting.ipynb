{
 "cells": [
  {
   "cell_type": "code",
   "execution_count": 0,
   "metadata": {
    "application/vnd.databricks.v1+cell": {
     "cellMetadata": {
      "byteLimit": 2048000,
      "rowLimit": 10000
     },
     "inputWidgets": {},
     "nuid": "9cc1c617-a763-4fed-b3d1-6b8366cd07f5",
     "showTitle": false,
     "title": ""
    }
   },
   "outputs": [],
   "source": [
    "# Mounting ADLS Gen2 onto Databricks using Azure Acitve directory credential Passthorugh\n",
    "#Bronze data Layer\n",
    "configs = {\n",
    "  \"fs.azure.account.auth.type\": \"CustomAccessToken\",\n",
    "  \"fs.azure.account.custom.token.provider.class\": spark.conf.get(\"spark.databricks.passthrough.adls.gen2.tokenProviderClassName\")\n",
    "}\n",
    "\n",
    "# Optionally, you can add <directory-name> to the source URI of your mount point.\n",
    "mountPoint =  \"/mnt/bronze\"\n",
    "if not any(mount.mountPoint == mountPoint for mount in dbutils.fs.mounts()):\n",
    "    try:\n",
    "        dbutils.fs.mount(\n",
    "        source = \"abfss://bronze@stgacdataengprj.dfs.core.windows.net/\",\n",
    "        mount_point = \"/mnt/bronze\",\n",
    "        extra_configs = configs)\n",
    "        print (\"Mount Succeeded\")\n",
    "    except Exception as e:\n",
    "        print(\"Mount Exception\",e)"
   ]
  },
  {
   "cell_type": "code",
   "execution_count": 0,
   "metadata": {
    "application/vnd.databricks.v1+cell": {
     "cellMetadata": {
      "byteLimit": 2048000,
      "rowLimit": 10000
     },
     "inputWidgets": {},
     "nuid": "c384109f-947b-4988-9c82-7607f64912cc",
     "showTitle": false,
     "title": ""
    }
   },
   "outputs": [],
   "source": [
    "#Silver data Layer\n",
    "configs = {\n",
    "  \"fs.azure.account.auth.type\": \"CustomAccessToken\",\n",
    "  \"fs.azure.account.custom.token.provider.class\": spark.conf.get(\"spark.databricks.passthrough.adls.gen2.tokenProviderClassName\")\n",
    "}\n",
    "\n",
    "# Optionally, you can add <directory-name> to the source URI of your mount point.\n",
    "mountPoint =  \"/mnt/silver\"\n",
    "if not any(mount.mountPoint == mountPoint for mount in dbutils.fs.mounts()):\n",
    "    try:\n",
    "        dbutils.fs.mount(\n",
    "        source = \"abfss://silver@stgacdataengprj.dfs.core.windows.net/\",\n",
    "        mount_point = \"/mnt/silver\",\n",
    "        extra_configs = configs)\n",
    "        print (\"Mount Succeeded\")\n",
    "    except Exception as e:\n",
    "        print(\"Mount Exception\",e)\n"
   ]
  },
  {
   "cell_type": "code",
   "execution_count": 0,
   "metadata": {
    "application/vnd.databricks.v1+cell": {
     "cellMetadata": {
      "byteLimit": 2048000,
      "rowLimit": 10000
     },
     "inputWidgets": {},
     "nuid": "de2e53f1-c11c-4137-b795-6821dc2072de",
     "showTitle": false,
     "title": ""
    }
   },
   "outputs": [],
   "source": [
    "#Gold data Layer\n",
    "configs = {\n",
    "  \"fs.azure.account.auth.type\": \"CustomAccessToken\",\n",
    "  \"fs.azure.account.custom.token.provider.class\": spark.conf.get(\"spark.databricks.passthrough.adls.gen2.tokenProviderClassName\")\n",
    "}\n",
    "\n",
    "# Optionally, you can add <directory-name> to the source URI of your mount point.\n",
    "mountPoint =  \"/mnt/gold\"\n",
    "if not any(mount.mountPoint == mountPoint for mount in dbutils.fs.mounts()):\n",
    "    try:\n",
    "        dbutils.fs.mount(\n",
    "        source = \"abfss://gold@stgacdataengprj.dfs.core.windows.net/\",\n",
    "        mount_point = \"/mnt/gold\",\n",
    "        extra_configs = configs)\n",
    "        print (\"Mount Succeeded\")\n",
    "    except Exception as e:\n",
    "        print(\"Mount Exception\",e)\n"
   ]
  },
  {
   "cell_type": "code",
   "execution_count": 0,
   "metadata": {
    "application/vnd.databricks.v1+cell": {
     "cellMetadata": {
      "byteLimit": 2048000,
      "rowLimit": 10000
     },
     "inputWidgets": {},
     "nuid": "346192fd-594b-40b2-ab2a-8a85b9659269",
     "showTitle": false,
     "title": ""
    }
   },
   "outputs": [
    {
     "output_type": "execute_result",
     "data": {
      "text/plain": [
       "[FileInfo(path='dbfs:/mnt/bronze/', name='bronze/', size=0, modificationTime=0),\n",
       " FileInfo(path='dbfs:/mnt/gold/', name='gold/', size=0, modificationTime=0),\n",
       " FileInfo(path='dbfs:/mnt/silver/', name='silver/', size=0, modificationTime=0)]"
      ]
     },
     "execution_count": 11,
     "metadata": {},
     "output_type": "execute_result"
    }
   ],
   "source": [
    "dbutils.fs.ls('mnt')"
   ]
  }
 ],
 "metadata": {
  "application/vnd.databricks.v1+notebook": {
   "dashboards": [],
   "language": "python",
   "notebookMetadata": {
    "pythonIndentUnit": 4
   },
   "notebookName": "ADLS_Mounting",
   "widgets": {}
  }
 },
 "nbformat": 4,
 "nbformat_minor": 0
}
